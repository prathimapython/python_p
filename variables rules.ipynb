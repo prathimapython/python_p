{
 "cells": [
  {
   "cell_type": "code",
   "execution_count": 1,
   "id": "f9f7155a",
   "metadata": {},
   "outputs": [],
   "source": [
    "int=123\n"
   ]
  },
  {
   "cell_type": "code",
   "execution_count": 2,
   "id": "f59e2175",
   "metadata": {},
   "outputs": [
    {
     "ename": "TypeError",
     "evalue": "'int' object is not callable",
     "output_type": "error",
     "traceback": [
      "\u001b[1;31m---------------------------------------------------------------------------\u001b[0m",
      "\u001b[1;31mTypeError\u001b[0m                                 Traceback (most recent call last)",
      "\u001b[1;32m~\\AppData\\Local\\Temp/ipykernel_16600/1167101.py\u001b[0m in \u001b[0;36m<module>\u001b[1;34m\u001b[0m\n\u001b[1;32m----> 1\u001b[1;33m \u001b[0mint\u001b[0m\u001b[1;33m(\u001b[0m\u001b[1;36m23\u001b[0m\u001b[1;33m)\u001b[0m\u001b[1;33m\u001b[0m\u001b[1;33m\u001b[0m\u001b[0m\n\u001b[0m",
      "\u001b[1;31mTypeError\u001b[0m: 'int' object is not callable"
     ]
    }
   ],
   "source": [
    "int(23)"
   ]
  },
  {
   "cell_type": "code",
   "execution_count": 6,
   "id": "aff95057",
   "metadata": {},
   "outputs": [
    {
     "name": "stdout",
     "output_type": "stream",
     "text": [
      "prathi\n",
      "a is not empty\n",
      "prathi\n"
     ]
    }
   ],
   "source": [
    "a=input(str(\"\"))\n",
    "if len(a)<0:\n",
    "    print(\"a is empty\")\n",
    "else: \n",
    "    print(\"a is not empty\")\n",
    "print(a)"
   ]
  },
  {
   "cell_type": "code",
   "execution_count": 12,
   "id": "111af648",
   "metadata": {},
   "outputs": [
    {
     "name": "stdout",
     "output_type": "stream",
     "text": [
      "\n",
      "0\n",
      "a is empty\n"
     ]
    }
   ],
   "source": [
    "a=input(str(\"\"))\n",
    "print(len(a))\n",
    "if len(a)==0:\n",
    "    print(\"a is empty\")\n",
    "else: \n",
    "    print(\"a is not empty\")\n"
   ]
  },
  {
   "cell_type": "code",
   "execution_count": 13,
   "id": "8e9330e8",
   "metadata": {},
   "outputs": [
    {
     "data": {
      "text/plain": [
       "False"
      ]
     },
     "execution_count": 13,
     "metadata": {},
     "output_type": "execute_result"
    }
   ],
   "source": [
    "bool()"
   ]
  },
  {
   "cell_type": "code",
   "execution_count": 14,
   "id": "3d887650",
   "metadata": {},
   "outputs": [
    {
     "data": {
      "text/plain": [
       "False"
      ]
     },
     "execution_count": 14,
     "metadata": {},
     "output_type": "execute_result"
    }
   ],
   "source": [
    "bool(\"\")"
   ]
  },
  {
   "cell_type": "code",
   "execution_count": 15,
   "id": "54ba80ca",
   "metadata": {},
   "outputs": [
    {
     "name": "stdout",
     "output_type": "stream",
     "text": [
      "\n",
      "0\n",
      "a is empty\n"
     ]
    }
   ],
   "source": [
    "a=input(str(\"\"))\n",
    "print(len(a))\n",
    "if bool(a):\n",
    "    print(\"a is not empty\")\n",
    "else: \n",
    "    print(\"a is empty\")\n"
   ]
  },
  {
   "cell_type": "code",
   "execution_count": 16,
   "id": "3a887d09",
   "metadata": {},
   "outputs": [
    {
     "name": "stdout",
     "output_type": "stream",
     "text": [
      "p\n",
      "1\n",
      "a is not empty\n"
     ]
    }
   ],
   "source": [
    "a=input(str(\"\"))\n",
    "print(len(a))\n",
    "if bool(a):\n",
    "    print(\"a is not empty\")\n",
    "else: \n",
    "    print(\"a is empty\")"
   ]
  },
  {
   "cell_type": "code",
   "execution_count": 17,
   "id": "7f267ebb",
   "metadata": {},
   "outputs": [
    {
     "name": "stdout",
     "output_type": "stream",
     "text": [
      "\n",
      "0\n",
      "a is empty\n"
     ]
    }
   ],
   "source": [
    "a=input(str(\"\"))\n",
    "print(len(a))\n",
    "if a:\n",
    "    print(\"a is not empty\")\n",
    "else: \n",
    "    print(\"a is empty\")"
   ]
  },
  {
   "cell_type": "code",
   "execution_count": 18,
   "id": "d4744d4b",
   "metadata": {},
   "outputs": [
    {
     "name": "stdout",
     "output_type": "stream",
     "text": [
      "e\n",
      "1\n",
      "a is not empty\n"
     ]
    }
   ],
   "source": [
    "a=input(str(\"\"))\n",
    "print(len(a))\n",
    "if a:\n",
    "    print(\"a is not empty\")\n",
    "else: \n",
    "    print(\"a is empty\")"
   ]
  },
  {
   "cell_type": "code",
   "execution_count": 19,
   "id": "e81c881c",
   "metadata": {},
   "outputs": [
    {
     "data": {
      "text/plain": [
       "False"
      ]
     },
     "execution_count": 19,
     "metadata": {},
     "output_type": "execute_result"
    }
   ],
   "source": [
    "bool(0)"
   ]
  },
  {
   "cell_type": "code",
   "execution_count": null,
   "id": "7e206ab6",
   "metadata": {},
   "outputs": [],
   "source": []
  }
 ],
 "metadata": {
  "kernelspec": {
   "display_name": "Python 3 (ipykernel)",
   "language": "python",
   "name": "python3"
  },
  "language_info": {
   "codemirror_mode": {
    "name": "ipython",
    "version": 3
   },
   "file_extension": ".py",
   "mimetype": "text/x-python",
   "name": "python",
   "nbconvert_exporter": "python",
   "pygments_lexer": "ipython3",
   "version": "3.9.7"
  }
 },
 "nbformat": 4,
 "nbformat_minor": 5
}
